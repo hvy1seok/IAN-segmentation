{
 "cells": [
  {
   "cell_type": "code",
   "execution_count": 1,
   "metadata": {},
   "outputs": [],
   "source": [
    "%gui qt\n",
    "\n",
    "from visualize import visualize_data, save_predictions"
   ]
  },
  {
   "cell_type": "code",
   "execution_count": 3,
   "metadata": {},
   "outputs": [],
   "source": [
    "config_path = 'configs/seg-deeplabv33d-inference-resnet152-a100.yaml'\n",
    "save_dir = 'examples/deeplabv33d-resnet152'"
   ]
  },
  {
   "cell_type": "code",
   "execution_count": 2,
   "metadata": {},
   "outputs": [
    {
     "name": "stdout",
     "output_type": "stream",
     "text": [
      "Removing old `examples/deeplabv33d-resnet152` directory...\n",
      "New `examples/deeplabv33d-resnet152` directory is generated\n",
      "Loaded 8 patients for split val\n"
     ]
    },
    {
     "name": "stderr",
     "output_type": "stream",
     "text": [
      "  0%|          | 0/8 [00:00<?, ?it/s]"
     ]
    },
    {
     "name": "stdout",
     "output_type": "stream",
     "text": [
      "images.shape: torch.Size([32, 1, 120, 120, 120])\n",
      "preds.shape: torch.Size([32, 1, 120, 120, 120])\n",
      "image.shape: torch.Size([1, 169, 371, 371])\n",
      "The input of patient P128 is saved at examples/deeplabv33d-resnet152/val/input\n",
      "output.shape: torch.Size([1, 169, 371, 371])\n",
      "The output of patient P128 is saved at examples/deeplabv33d-resnet152/val/output\n",
      "gt.shape: torch.Size([1, 169, 371, 371])\n"
     ]
    },
    {
     "name": "stderr",
     "output_type": "stream",
     "text": [
      " 12%|█▎        | 1/8 [00:05<00:40,  5.76s/it]"
     ]
    },
    {
     "name": "stdout",
     "output_type": "stream",
     "text": [
      "The gt of patient P128 is saved at examples/deeplabv33d-resnet152/val/gt\n",
      "images.shape: torch.Size([24, 1, 120, 120, 120])\n",
      "preds.shape: torch.Size([24, 1, 120, 120, 120])\n"
     ]
    },
    {
     "name": "stderr",
     "output_type": "stream",
     "text": [
      " 25%|██▌       | 2/8 [00:09<00:26,  4.46s/it]"
     ]
    },
    {
     "name": "stdout",
     "output_type": "stream",
     "text": [
      "image.shape: torch.Size([1, 170, 324, 371])\n",
      "The input of patient P24 is saved at examples/deeplabv33d-resnet152/val/input\n",
      "output.shape: torch.Size([1, 170, 324, 371])\n",
      "The output of patient P24 is saved at examples/deeplabv33d-resnet152/val/output\n",
      "gt.shape: torch.Size([1, 170, 324, 371])\n",
      "The gt of patient P24 is saved at examples/deeplabv33d-resnet152/val/gt\n",
      "images.shape: torch.Size([32, 1, 120, 120, 120])\n",
      "preds.shape: torch.Size([32, 1, 120, 120, 120])\n",
      "image.shape: torch.Size([1, 169, 379, 462])\n",
      "The input of patient P42 is saved at examples/deeplabv33d-resnet152/val/input\n",
      "output.shape: torch.Size([1, 169, 379, 462])\n",
      "The output of patient P42 is saved at examples/deeplabv33d-resnet152/val/output\n",
      "gt.shape: torch.Size([1, 169, 379, 462])\n"
     ]
    },
    {
     "name": "stderr",
     "output_type": "stream",
     "text": [
      " 38%|███▊      | 3/8 [00:13<00:22,  4.54s/it]"
     ]
    },
    {
     "name": "stdout",
     "output_type": "stream",
     "text": [
      "The gt of patient P42 is saved at examples/deeplabv33d-resnet152/val/gt\n",
      "images.shape: torch.Size([24, 1, 120, 120, 120])\n",
      "preds.shape: torch.Size([24, 1, 120, 120, 120])\n"
     ]
    },
    {
     "name": "stderr",
     "output_type": "stream",
     "text": [
      " 50%|█████     | 4/8 [00:17<00:16,  4.15s/it]"
     ]
    },
    {
     "name": "stdout",
     "output_type": "stream",
     "text": [
      "image.shape: torch.Size([1, 169, 292, 370])\n",
      "The input of patient P45 is saved at examples/deeplabv33d-resnet152/val/input\n",
      "output.shape: torch.Size([1, 169, 292, 370])\n",
      "The output of patient P45 is saved at examples/deeplabv33d-resnet152/val/output\n",
      "gt.shape: torch.Size([1, 169, 292, 370])\n",
      "The gt of patient P45 is saved at examples/deeplabv33d-resnet152/val/gt\n",
      "images.shape: torch.Size([24, 1, 120, 120, 120])\n",
      "preds.shape: torch.Size([24, 1, 120, 120, 120])\n"
     ]
    },
    {
     "name": "stderr",
     "output_type": "stream",
     "text": [
      " 62%|██████▎   | 5/8 [00:21<00:11,  3.96s/it]"
     ]
    },
    {
     "name": "stdout",
     "output_type": "stream",
     "text": [
      "image.shape: torch.Size([1, 170, 326, 370])\n",
      "The input of patient P80 is saved at examples/deeplabv33d-resnet152/val/input\n",
      "output.shape: torch.Size([1, 170, 326, 370])\n",
      "The output of patient P80 is saved at examples/deeplabv33d-resnet152/val/output\n",
      "gt.shape: torch.Size([1, 170, 326, 370])\n",
      "The gt of patient P80 is saved at examples/deeplabv33d-resnet152/val/gt\n",
      "images.shape: torch.Size([24, 1, 120, 120, 120])\n",
      "preds.shape: torch.Size([24, 1, 120, 120, 120])\n"
     ]
    },
    {
     "name": "stderr",
     "output_type": "stream",
     "text": [
      " 75%|███████▌  | 6/8 [00:25<00:07,  3.97s/it]"
     ]
    },
    {
     "name": "stdout",
     "output_type": "stream",
     "text": [
      "image.shape: torch.Size([1, 170, 326, 370])\n",
      "The input of patient P95 is saved at examples/deeplabv33d-resnet152/val/input\n",
      "output.shape: torch.Size([1, 170, 326, 370])\n",
      "The output of patient P95 is saved at examples/deeplabv33d-resnet152/val/output\n",
      "gt.shape: torch.Size([1, 170, 326, 370])\n",
      "The gt of patient P95 is saved at examples/deeplabv33d-resnet152/val/gt\n",
      "images.shape: torch.Size([24, 1, 120, 120, 120])\n",
      "preds.shape: torch.Size([24, 1, 120, 120, 120])\n"
     ]
    },
    {
     "name": "stderr",
     "output_type": "stream",
     "text": [
      " 88%|████████▊ | 7/8 [00:28<00:03,  3.91s/it]"
     ]
    },
    {
     "name": "stdout",
     "output_type": "stream",
     "text": [
      "image.shape: torch.Size([1, 169, 299, 370])\n",
      "The input of patient P98 is saved at examples/deeplabv33d-resnet152/val/input\n",
      "output.shape: torch.Size([1, 169, 299, 370])\n",
      "The output of patient P98 is saved at examples/deeplabv33d-resnet152/val/output\n",
      "gt.shape: torch.Size([1, 169, 299, 370])\n",
      "The gt of patient P98 is saved at examples/deeplabv33d-resnet152/val/gt\n",
      "images.shape: torch.Size([24, 1, 120, 120, 120])\n",
      "preds.shape: torch.Size([24, 1, 120, 120, 120])\n",
      "image.shape: torch.Size([1, 170, 357, 463])\n",
      "The input of patient P415 is saved at examples/deeplabv33d-resnet152/val/input\n",
      "output.shape: torch.Size([1, 170, 357, 463])\n",
      "The output of patient P415 is saved at examples/deeplabv33d-resnet152/val/output\n",
      "gt.shape: torch.Size([1, 170, 357, 463])\n"
     ]
    },
    {
     "name": "stderr",
     "output_type": "stream",
     "text": [
      "100%|██████████| 8/8 [00:33<00:00,  4.13s/it]"
     ]
    },
    {
     "name": "stdout",
     "output_type": "stream",
     "text": [
      "The gt of patient P415 is saved at examples/deeplabv33d-resnet152/val/gt\n"
     ]
    },
    {
     "name": "stderr",
     "output_type": "stream",
     "text": [
      "\n"
     ]
    }
   ],
   "source": [
    "save_predictions(config_path, save_dir)"
   ]
  },
  {
   "cell_type": "code",
   "execution_count": 4,
   "metadata": {},
   "outputs": [
    {
     "name": "stdout",
     "output_type": "stream",
     "text": [
      "(169, 299, 370)\n",
      "(169, 299, 370)\n",
      "(169, 299, 370)\n"
     ]
    }
   ],
   "source": [
    "visualize_data(save_dir=save_dir, patient=98)"
   ]
  },
  {
   "cell_type": "code",
   "execution_count": null,
   "metadata": {},
   "outputs": [],
   "source": []
  }
 ],
 "metadata": {
  "kernelspec": {
   "display_name": "ianseg",
   "language": "python",
   "name": "python3"
  },
  "language_info": {
   "codemirror_mode": {
    "name": "ipython",
    "version": 3
   },
   "file_extension": ".py",
   "mimetype": "text/x-python",
   "name": "python",
   "nbconvert_exporter": "python",
   "pygments_lexer": "ipython3",
   "version": "3.10.12"
  },
  "orig_nbformat": 4
 },
 "nbformat": 4,
 "nbformat_minor": 2
}
