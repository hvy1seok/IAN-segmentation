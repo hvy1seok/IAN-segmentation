{
 "cells": [
  {
   "cell_type": "code",
   "execution_count": 1,
   "metadata": {},
   "outputs": [],
   "source": [
    "from pathlib import Path\n",
    "import numpy as np\n",
    "%gui qt\n",
    "\n",
    "from visualize import visualize_data, save_predictions"
   ]
  },
  {
   "cell_type": "code",
   "execution_count": 3,
   "metadata": {},
   "outputs": [
    {
     "name": "stdout",
     "output_type": "stream",
     "text": [
      "Removing old `examples` directory...\n",
      "New `examples` directory is generated\n",
      "Loaded 8 patients for split val\n"
     ]
    },
    {
     "name": "stderr",
     "output_type": "stream",
     "text": [
      "  0%|          | 0/8 [00:00<?, ?it/s]"
     ]
    },
    {
     "name": "stdout",
     "output_type": "stream",
     "text": [
      "images.shape: torch.Size([32, 1, 120, 120, 120])\n",
      "preds.shape: torch.Size([32, 1, 120, 120, 120])\n"
     ]
    },
    {
     "name": "stderr",
     "output_type": "stream",
     "text": [
      " 12%|█▎        | 1/8 [00:07<00:50,  7.20s/it]"
     ]
    },
    {
     "name": "stdout",
     "output_type": "stream",
     "text": [
      "image.shape: torch.Size([1, 169, 371, 371])\n",
      "The input of patient P128 is saved at examples/val/input\n",
      "output.shape: torch.Size([1, 169, 371, 371])\n",
      "The output of patient P128 is saved at examples/val/output\n",
      "gt.shape: torch.Size([1, 169, 371, 371])\n",
      "The gt of patient P128 is saved at examples/val/gt\n",
      "images.shape: torch.Size([24, 1, 120, 120, 120])\n",
      "preds.shape: torch.Size([24, 1, 120, 120, 120])\n"
     ]
    },
    {
     "name": "stderr",
     "output_type": "stream",
     "text": [
      " 25%|██▌       | 2/8 [00:12<00:37,  6.33s/it]"
     ]
    },
    {
     "name": "stdout",
     "output_type": "stream",
     "text": [
      "image.shape: torch.Size([1, 170, 324, 371])\n",
      "The input of patient P24 is saved at examples/val/input\n",
      "output.shape: torch.Size([1, 170, 324, 371])\n",
      "The output of patient P24 is saved at examples/val/output\n",
      "gt.shape: torch.Size([1, 170, 324, 371])\n",
      "The gt of patient P24 is saved at examples/val/gt\n",
      "images.shape: torch.Size([32, 1, 120, 120, 120])\n",
      "preds.shape: torch.Size([32, 1, 120, 120, 120])\n",
      "image.shape: torch.Size([1, 169, 379, 462])\n",
      "The input of patient P42 is saved at examples/val/input\n",
      "output.shape: torch.Size([1, 169, 379, 462])\n"
     ]
    },
    {
     "name": "stderr",
     "output_type": "stream",
     "text": [
      " 38%|███▊      | 3/8 [00:16<00:26,  5.23s/it]"
     ]
    },
    {
     "name": "stdout",
     "output_type": "stream",
     "text": [
      "The output of patient P42 is saved at examples/val/output\n",
      "gt.shape: torch.Size([1, 169, 379, 462])\n",
      "The gt of patient P42 is saved at examples/val/gt\n",
      "images.shape: torch.Size([24, 1, 120, 120, 120])\n",
      "preds.shape: torch.Size([24, 1, 120, 120, 120])\n"
     ]
    },
    {
     "name": "stderr",
     "output_type": "stream",
     "text": [
      " 50%|█████     | 4/8 [00:20<00:17,  4.42s/it]"
     ]
    },
    {
     "name": "stdout",
     "output_type": "stream",
     "text": [
      "image.shape: torch.Size([1, 169, 292, 370])\n",
      "The input of patient P45 is saved at examples/val/input\n",
      "output.shape: torch.Size([1, 169, 292, 370])\n",
      "The output of patient P45 is saved at examples/val/output\n",
      "gt.shape: torch.Size([1, 169, 292, 370])\n",
      "The gt of patient P45 is saved at examples/val/gt\n",
      "images.shape: torch.Size([24, 1, 120, 120, 120])\n",
      "preds.shape: torch.Size([24, 1, 120, 120, 120])\n"
     ]
    },
    {
     "name": "stderr",
     "output_type": "stream",
     "text": [
      " 62%|██████▎   | 5/8 [00:23<00:11,  3.95s/it]"
     ]
    },
    {
     "name": "stdout",
     "output_type": "stream",
     "text": [
      "image.shape: torch.Size([1, 170, 326, 370])\n",
      "The input of patient P80 is saved at examples/val/input\n",
      "output.shape: torch.Size([1, 170, 326, 370])\n",
      "The output of patient P80 is saved at examples/val/output\n",
      "gt.shape: torch.Size([1, 170, 326, 370])\n",
      "The gt of patient P80 is saved at examples/val/gt\n",
      "images.shape: torch.Size([24, 1, 120, 120, 120])\n",
      "preds.shape: torch.Size([24, 1, 120, 120, 120])\n"
     ]
    },
    {
     "name": "stderr",
     "output_type": "stream",
     "text": [
      " 75%|███████▌  | 6/8 [00:26<00:07,  3.66s/it]"
     ]
    },
    {
     "name": "stdout",
     "output_type": "stream",
     "text": [
      "image.shape: torch.Size([1, 170, 326, 370])\n",
      "The input of patient P95 is saved at examples/val/input\n",
      "output.shape: torch.Size([1, 170, 326, 370])\n",
      "The output of patient P95 is saved at examples/val/output\n",
      "gt.shape: torch.Size([1, 170, 326, 370])\n",
      "The gt of patient P95 is saved at examples/val/gt\n",
      "images.shape: torch.Size([24, 1, 120, 120, 120])\n",
      "preds.shape: torch.Size([24, 1, 120, 120, 120])\n"
     ]
    },
    {
     "name": "stderr",
     "output_type": "stream",
     "text": [
      " 88%|████████▊ | 7/8 [00:29<00:03,  3.47s/it]"
     ]
    },
    {
     "name": "stdout",
     "output_type": "stream",
     "text": [
      "image.shape: torch.Size([1, 169, 299, 370])\n",
      "The input of patient P98 is saved at examples/val/input\n",
      "output.shape: torch.Size([1, 169, 299, 370])\n",
      "The output of patient P98 is saved at examples/val/output\n",
      "gt.shape: torch.Size([1, 169, 299, 370])\n",
      "The gt of patient P98 is saved at examples/val/gt\n",
      "images.shape: torch.Size([24, 1, 120, 120, 120])\n",
      "preds.shape: torch.Size([24, 1, 120, 120, 120])\n",
      "image.shape: torch.Size([1, 170, 357, 463])\n",
      "The input of patient P415 is saved at examples/val/input\n",
      "output.shape: torch.Size([1, 170, 357, 463])\n",
      "The output of patient P415 is saved at examples/val/output\n",
      "gt.shape: torch.Size([1, 170, 357, 463])\n"
     ]
    },
    {
     "name": "stderr",
     "output_type": "stream",
     "text": [
      "100%|██████████| 8/8 [00:32<00:00,  4.07s/it]"
     ]
    },
    {
     "name": "stdout",
     "output_type": "stream",
     "text": [
      "The gt of patient P415 is saved at examples/val/gt\n"
     ]
    },
    {
     "name": "stderr",
     "output_type": "stream",
     "text": [
      "\n"
     ]
    }
   ],
   "source": [
    "# save_predictions('configs/seg-deeplabv33d-inference-a4000.yaml', 'examples')"
   ]
  },
  {
   "cell_type": "code",
   "execution_count": 2,
   "metadata": {},
   "outputs": [
    {
     "name": "stdout",
     "output_type": "stream",
     "text": [
      "(169, 299, 370)\n",
      "(169, 299, 370)\n",
      "(169, 299, 370)\n"
     ]
    }
   ],
   "source": [
    "visualize_data(patient=98)"
   ]
  },
  {
   "cell_type": "code",
   "execution_count": null,
   "metadata": {},
   "outputs": [],
   "source": []
  }
 ],
 "metadata": {
  "kernelspec": {
   "display_name": "ianseg",
   "language": "python",
   "name": "python3"
  },
  "language_info": {
   "codemirror_mode": {
    "name": "ipython",
    "version": 3
   },
   "file_extension": ".py",
   "mimetype": "text/x-python",
   "name": "python",
   "nbconvert_exporter": "python",
   "pygments_lexer": "ipython3",
   "version": "3.10.12"
  },
  "orig_nbformat": 4
 },
 "nbformat": 4,
 "nbformat_minor": 2
}
